{
 "cells": [
  {
   "cell_type": "markdown",
   "metadata": {},
   "source": [
    "# OpenAI GPT-3 Sales Data Summarization\n",
    "\n",
    "This notebook demonstrates how to use OpenAI's GPT-3.5 Turbo model to summarize sales data from a CSV file."
   ]
  },
  {
   "cell_type": "code",
   "execution_count": null,
   "metadata": {},
   "outputs": [],
   "source": [
    "# Import necessary libraries\n",
    "import openai\n",
    "import os\n",
    "\n",
    "# Set OpenAI API key from environment variable. You can easily get api key from https://platform.openai.com/\n",
    "openai.api_key = os.environ.get(\"OPENAI_API_KEY\")\n",
    "\n",
    "# Define model\n",
    "model = \"gpt-3.5-turbo\"\n",
    "\n",
    "# Initialize OpenAI client\n",
    "client = openai.OpenAI()\n",
    "\n",
    "# Define function to get completion from OpenAI API\n",
    "def get_results(prompt, model=model):\n",
    "    messages = [{\"role\": \"user\", \"content\": prompt}]\n",
    "    response = client.chat.completions.create(\n",
    "        model=model,\n",
    "        messages=messages,\n",
    "        temperature=0\n",
    "    )\n",
    "    return response.choices[0].message.content\n",
    "\n",
    "# Read CSV file into text. I had sales data consisted of around 800 rows for different stores in a csv file.\n",
    "csv_file_path = './Source_Files/sales.csv'\n",
    "with open(csv_file_path, 'r') as file:\n",
    "    csv_text = file.read()\n",
    "\n",
    "# Define the prompt with CSV text for summarization\n",
    "text = f\"\"\"\n",
    "{csv_text}\n",
    "\"\"\"\n",
    "\n",
    "prompt = f\"\"\"\n",
    "Could you summarize important information for each store in 3 bullet points from sales data presented between triple backticks \\\n",
    "```{text}```\n",
    "\"\"\"\n",
    "\n",
    "# Get completion from OpenAI API\n",
    "response = get_results(prompt)\n",
    "\n",
    "# Print the response\n",
    "print(response)"
   ]
  }
 ],
 "metadata": {
  "kernelspec": {
   "display_name": "Python 3",
   "language": "python",
   "name": "python3"
  },
  "language_info": {
   "codemirror_mode": {
    "name": "ipython",
    "version": 3
   },
   "file_extension": ".py",
   "mimetype": "text/x-python",
   "name": "python",
   "nbconvert_exporter": "python",
   "pygments_lexer": "ipython3",
   "version": "3.8.8"
  }
 },
 "nbformat": 4,
 "nbformat_minor": 5
}
